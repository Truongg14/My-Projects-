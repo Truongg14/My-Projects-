{
 "cells": [
  {
   "cell_type": "markdown",
   "metadata": {},
   "source": [
    "# CASE STUDY: AB TESTING"
   ]
  },
  {
   "cell_type": "markdown",
   "metadata": {},
   "source": [
    "A. Requirement: Increasing CR through Landing Page  \n",
    "  \n",
    "B. Objective: The primary goal of the A/B test is to determine whether the new landing page design (treatment group) results in a higher conversion rate than the current design (control group). By identifying the most effective landing page design, the company hopes to optimize its product pages and increase overall conversion rates, which will boost sales and revenue.  \n",
    "  \n",
    "D. Case Study Questions:  \n",
    "    1. Which landing page design (treatment or control) generated a higher conversion rate during the A/B test?  \n",
    "    2. Is the variation in conversion rates between the two landing page designs statistically significant?  \n",
    "  \n",
    "E. Methodology:  \n",
    "    1. Experiment Design:  \n",
    "        (1) Simulating & Plotting Normal Distribution  \n",
    "        (2) Hypothesis Setting  \n",
    "        (3) Power Analysis  \n",
    "        (4) Sample Size Estimation  \n",
    "    2. Data Cleaning & Exploratory Analysis  \n",
    "        (1) Missing Value  \n",
    "        (2) Duplicate  \n",
    "        (3) EDA Summary Stats  \n",
    "    3. Internal Validity  \n",
    "        (1) Sample Ratio Mismatch (SRM) - Chi Square  \n",
    "    4. Analyzing differences in proportion A/B Testing  \n",
    "        (1) Sample Proportion Z-Test   \n",
    "    5. Analyzing differences in means A/B Testing  \n",
    "        (1) Bootstrap Analysis  "
   ]
  },
  {
   "cell_type": "code",
   "execution_count": 2,
   "metadata": {},
   "outputs": [],
   "source": [
    "# Import packages\n",
    "import pandas as pd \n",
    "import numpy as np \n",
    "import matplotlib.pyplot as plt\n",
    "import seaborn as sns"
   ]
  },
  {
   "cell_type": "code",
   "execution_count": 3,
   "metadata": {},
   "outputs": [],
   "source": [
    "# Lodd dataset into pandas\n",
    "AB = pd.read_csv('ab_data.csv')"
   ]
  },
  {
   "cell_type": "code",
   "execution_count": 4,
   "metadata": {},
   "outputs": [
    {
     "data": {
      "text/html": [
       "<div>\n",
       "<style scoped>\n",
       "    .dataframe tbody tr th:only-of-type {\n",
       "        vertical-align: middle;\n",
       "    }\n",
       "\n",
       "    .dataframe tbody tr th {\n",
       "        vertical-align: top;\n",
       "    }\n",
       "\n",
       "    .dataframe thead th {\n",
       "        text-align: right;\n",
       "    }\n",
       "</style>\n",
       "<table border=\"1\" class=\"dataframe\">\n",
       "  <thead>\n",
       "    <tr style=\"text-align: right;\">\n",
       "      <th></th>\n",
       "      <th>user_id</th>\n",
       "      <th>timestamp</th>\n",
       "      <th>group</th>\n",
       "      <th>landing_page</th>\n",
       "      <th>converted</th>\n",
       "    </tr>\n",
       "  </thead>\n",
       "  <tbody>\n",
       "    <tr>\n",
       "      <th>0</th>\n",
       "      <td>851104</td>\n",
       "      <td>2017-01-21 22:11:48.556739</td>\n",
       "      <td>control</td>\n",
       "      <td>old_page</td>\n",
       "      <td>0</td>\n",
       "    </tr>\n",
       "    <tr>\n",
       "      <th>1</th>\n",
       "      <td>804228</td>\n",
       "      <td>2017-01-12 08:01:45.159739</td>\n",
       "      <td>control</td>\n",
       "      <td>old_page</td>\n",
       "      <td>0</td>\n",
       "    </tr>\n",
       "    <tr>\n",
       "      <th>2</th>\n",
       "      <td>661590</td>\n",
       "      <td>2017-01-11 16:55:06.154213</td>\n",
       "      <td>treatment</td>\n",
       "      <td>new_page</td>\n",
       "      <td>0</td>\n",
       "    </tr>\n",
       "    <tr>\n",
       "      <th>3</th>\n",
       "      <td>853541</td>\n",
       "      <td>2017-01-08 18:28:03.143765</td>\n",
       "      <td>treatment</td>\n",
       "      <td>new_page</td>\n",
       "      <td>0</td>\n",
       "    </tr>\n",
       "    <tr>\n",
       "      <th>4</th>\n",
       "      <td>864975</td>\n",
       "      <td>2017-01-21 01:52:26.210827</td>\n",
       "      <td>control</td>\n",
       "      <td>old_page</td>\n",
       "      <td>1</td>\n",
       "    </tr>\n",
       "    <tr>\n",
       "      <th>5</th>\n",
       "      <td>936923</td>\n",
       "      <td>2017-01-10 15:20:49.083499</td>\n",
       "      <td>control</td>\n",
       "      <td>old_page</td>\n",
       "      <td>0</td>\n",
       "    </tr>\n",
       "    <tr>\n",
       "      <th>6</th>\n",
       "      <td>679687</td>\n",
       "      <td>2017-01-19 03:26:46.940749</td>\n",
       "      <td>treatment</td>\n",
       "      <td>new_page</td>\n",
       "      <td>1</td>\n",
       "    </tr>\n",
       "    <tr>\n",
       "      <th>7</th>\n",
       "      <td>719014</td>\n",
       "      <td>2017-01-17 01:48:29.539573</td>\n",
       "      <td>control</td>\n",
       "      <td>old_page</td>\n",
       "      <td>0</td>\n",
       "    </tr>\n",
       "    <tr>\n",
       "      <th>8</th>\n",
       "      <td>817355</td>\n",
       "      <td>2017-01-04 17:58:08.979471</td>\n",
       "      <td>treatment</td>\n",
       "      <td>new_page</td>\n",
       "      <td>1</td>\n",
       "    </tr>\n",
       "    <tr>\n",
       "      <th>9</th>\n",
       "      <td>839785</td>\n",
       "      <td>2017-01-15 18:11:06.610965</td>\n",
       "      <td>treatment</td>\n",
       "      <td>new_page</td>\n",
       "      <td>1</td>\n",
       "    </tr>\n",
       "  </tbody>\n",
       "</table>\n",
       "</div>"
      ],
      "text/plain": [
       "   user_id                   timestamp      group landing_page  converted\n",
       "0   851104  2017-01-21 22:11:48.556739    control     old_page          0\n",
       "1   804228  2017-01-12 08:01:45.159739    control     old_page          0\n",
       "2   661590  2017-01-11 16:55:06.154213  treatment     new_page          0\n",
       "3   853541  2017-01-08 18:28:03.143765  treatment     new_page          0\n",
       "4   864975  2017-01-21 01:52:26.210827    control     old_page          1\n",
       "5   936923  2017-01-10 15:20:49.083499    control     old_page          0\n",
       "6   679687  2017-01-19 03:26:46.940749  treatment     new_page          1\n",
       "7   719014  2017-01-17 01:48:29.539573    control     old_page          0\n",
       "8   817355  2017-01-04 17:58:08.979471  treatment     new_page          1\n",
       "9   839785  2017-01-15 18:11:06.610965  treatment     new_page          1"
      ]
     },
     "execution_count": 4,
     "metadata": {},
     "output_type": "execute_result"
    }
   ],
   "source": [
    "# Biefing the data columns\n",
    "AB.head(10)"
   ]
  },
  {
   "cell_type": "code",
   "execution_count": 5,
   "metadata": {},
   "outputs": [
    {
     "name": "stdout",
     "output_type": "stream",
     "text": [
      "<class 'pandas.core.frame.DataFrame'>\n",
      "RangeIndex: 294478 entries, 0 to 294477\n",
      "Data columns (total 5 columns):\n",
      " #   Column        Non-Null Count   Dtype \n",
      "---  ------        --------------   ----- \n",
      " 0   user_id       294478 non-null  int64 \n",
      " 1   timestamp     294478 non-null  object\n",
      " 2   group         294478 non-null  object\n",
      " 3   landing_page  294478 non-null  object\n",
      " 4   converted     294478 non-null  int64 \n",
      "dtypes: int64(2), object(3)\n",
      "memory usage: 11.2+ MB\n"
     ]
    }
   ],
   "source": [
    "AB.info()"
   ]
  },
  {
   "cell_type": "markdown",
   "metadata": {},
   "source": [
    "# 1 Experiment Design"
   ]
  },
  {
   "cell_type": "code",
   "execution_count": 6,
   "metadata": {},
   "outputs": [
    {
     "data": {
      "image/png": "[encoded data removed]",
      "text/plain": [
       "<Figure size 640x480 with 1 Axes>"
      ]
     },
     "metadata": {},
     "output_type": "display_data"
    }
   ],
   "source": [
    "# Simulating & Plotting Normal Distribution \n",
    "from scipy.stats import norm\n",
    "\n",
    "# Plot a normal distribution\n",
    "mean = 0.119\n",
    "sd = 0.324\n",
    "\n",
    "x = np.linspace(-2, 2, 100)\n",
    "norm_a = norm.pdf(x,mean,sd)\n",
    "\n",
    "sns.lineplot(x=x,y=norm_a)\n",
    "plt.xlabel('x')\n",
    "plt.ylabel('PDF')\n",
    "plt.show()"
   ]
  },
  {
   "cell_type": "code",
   "execution_count": 7,
   "metadata": {},
   "outputs": [],
   "source": [
    "# Hypothesis Setting  \n",
    "# H0: There is no difference in conversion rates between the two landing page designs. (μ0=μ1)\n",
    "# H1: There is a difference in conversion rates between the two landing page designs. (μ0≠μ1)"
   ]
  },
  {
   "cell_type": "code",
   "execution_count": 8,
   "metadata": {},
   "outputs": [
    {
     "data": {
      "image/png": "[encoded data removed]",
      "text/plain": [
       "<Figure size 640x480 with 1 Axes>"
      ]
     },
     "metadata": {},
     "output_type": "display_data"
    }
   ],
   "source": [
    "# Power Analysis  \n",
    "from statsmodels.stats.power import TTestIndPower\n",
    "\n",
    "# Specify parameters for power analysis\n",
    "sample_sizes = np.array(range(10,1000))\n",
    "effect_sizes = np.array([0.1,0.2,0.3])\n",
    "\n",
    "# Plot power curves\n",
    "TTestIndPower().plot_power(nobs=sample_sizes, effect_size=effect_sizes)\n",
    "plt.show()"
   ]
  },
  {
   "cell_type": "markdown",
   "metadata": {},
   "source": [
    "Assumption: We only have data of Old Page -> Now we need to consider our sample size"
   ]
  },
  {
   "cell_type": "code",
   "execution_count": 9,
   "metadata": {},
   "outputs": [
    {
     "name": "stdout",
     "output_type": "stream",
     "text": [
      "0.12047759085568362\n",
      "0.3255202921894224\n"
     ]
    }
   ],
   "source": [
    "# Sample Size Estimation  -\n",
    "# Calculate and print the baseline mean and standard deviation of old Page\n",
    "mean_Old = AB[AB['landing_page']=='old_page']['converted'].mean()\n",
    "print(mean_Old)\n",
    "\n",
    "std_Old = AB[AB['landing_page']=='old_page']['converted'].std()\n",
    "print(std_Old)\n"
   ]
  },
  {
   "cell_type": "markdown",
   "metadata": {},
   "source": [
    "We expected new mean will be 0.186 --> We set this number because we want to set the effect size is Small (=0.2)"
   ]
  },
  {
   "cell_type": "code",
   "execution_count": 10,
   "metadata": {},
   "outputs": [
    {
     "name": "stdout",
     "output_type": "stream",
     "text": [
      "0.20128517550662697\n"
     ]
    }
   ],
   "source": [
    "# Define mean_new and calculate the standardized effect size\n",
    "mean_New = 0.186\n",
    "\n",
    "std_effect_size = (mean_New - mean_Old) / std_Old\n",
    "print(std_effect_size)"
   ]
  },
  {
   "cell_type": "markdown",
   "metadata": {},
   "source": [
    "Assumption:\n",
    "- Power = .80\n",
    "- Alpha = .05"
   ]
  },
  {
   "cell_type": "code",
   "execution_count": 11,
   "metadata": {},
   "outputs": [
    {
     "name": "stdout",
     "output_type": "stream",
     "text": [
      "388.41035110748555\n"
     ]
    }
   ],
   "source": [
    "# Calculate the required sample size\n",
    "from statsmodels.stats.power import TTestIndPower\n",
    "\n",
    "sample_size = TTestIndPower().solve_power(effect_size=std_effect_size, power=0.80, alpha=0.05, nobs1=None)\n",
    "\n",
    "print(sample_size)"
   ]
  },
  {
   "cell_type": "markdown",
   "metadata": {},
   "source": [
    "# 2 Data Cleaning & Exploratory Analysis  "
   ]
  },
  {
   "cell_type": "code",
   "execution_count": 12,
   "metadata": {},
   "outputs": [
    {
     "name": "stdout",
     "output_type": "stream",
     "text": [
      "user_id         0\n",
      "timestamp       0\n",
      "group           0\n",
      "landing_page    0\n",
      "converted       0\n",
      "dtype: int64\n"
     ]
    }
   ],
   "source": [
    "# Missing Value \n",
    "missing_values = AB.isnull().sum()\n",
    "print(missing_values)"
   ]
  },
  {
   "cell_type": "code",
   "execution_count": 13,
   "metadata": {},
   "outputs": [
    {
     "data": {
      "text/plain": [
       "user_id         290584\n",
       "timestamp       290584\n",
       "group                2\n",
       "landing_page         2\n",
       "converted            2\n",
       "dtype: int64"
      ]
     },
     "execution_count": 13,
     "metadata": {},
     "output_type": "execute_result"
    }
   ],
   "source": [
    "# Duplicate  \n",
    "AB.drop_duplicates( subset = 'user_id', keep = 'first', inplace = True)\n",
    "\n",
    "AB.nunique()"
   ]
  },
  {
   "cell_type": "code",
   "execution_count": 14,
   "metadata": {},
   "outputs": [
    {
     "data": {
      "text/html": [
       "<style type=\"text/css\">\n",
       "</style>\n",
       "<table id=\"T_b91a3\">\n",
       "  <thead>\n",
       "    <tr>\n",
       "      <th class=\"blank level0\" >&nbsp;</th>\n",
       "      <th id=\"T_b91a3_level0_col0\" class=\"col_heading level0 col0\" >Conversion_Rate</th>\n",
       "      <th id=\"T_b91a3_level0_col1\" class=\"col_heading level0 col1\" >Standard_Deviation</th>\n",
       "      <th id=\"T_b91a3_level0_col2\" class=\"col_heading level0 col2\" >Max_CR</th>\n",
       "      <th id=\"T_b91a3_level0_col3\" class=\"col_heading level0 col3\" >Min_CR</th>\n",
       "      <th id=\"T_b91a3_level0_col4\" class=\"col_heading level0 col4\" >Count</th>\n",
       "      <th id=\"T_b91a3_level0_col5\" class=\"col_heading level0 col5\" >Std_Error</th>\n",
       "    </tr>\n",
       "    <tr>\n",
       "      <th class=\"index_name level0\" >landing_page</th>\n",
       "      <th class=\"blank col0\" >&nbsp;</th>\n",
       "      <th class=\"blank col1\" >&nbsp;</th>\n",
       "      <th class=\"blank col2\" >&nbsp;</th>\n",
       "      <th class=\"blank col3\" >&nbsp;</th>\n",
       "      <th class=\"blank col4\" >&nbsp;</th>\n",
       "      <th class=\"blank col5\" >&nbsp;</th>\n",
       "    </tr>\n",
       "  </thead>\n",
       "  <tbody>\n",
       "    <tr>\n",
       "      <th id=\"T_b91a3_level0_row0\" class=\"row_heading level0 row0\" >new_page</th>\n",
       "      <td id=\"T_b91a3_row0_col0\" class=\"data row0 col0\" >1.000</td>\n",
       "      <td id=\"T_b91a3_row0_col1\" class=\"data row0 col1\" >0.000</td>\n",
       "      <td id=\"T_b91a3_row0_col2\" class=\"data row0 col2\" >145320.000</td>\n",
       "      <td id=\"T_b91a3_row0_col3\" class=\"data row0 col3\" >0.001</td>\n",
       "      <td id=\"T_b91a3_row0_col4\" class=\"data row0 col4\" >0.323</td>\n",
       "      <td id=\"T_b91a3_row0_col5\" class=\"data row0 col5\" >0.119</td>\n",
       "    </tr>\n",
       "    <tr>\n",
       "      <th id=\"T_b91a3_level0_row1\" class=\"row_heading level0 row1\" >old_page</th>\n",
       "      <td id=\"T_b91a3_row1_col0\" class=\"data row1 col0\" >1.000</td>\n",
       "      <td id=\"T_b91a3_row1_col1\" class=\"data row1 col1\" >0.000</td>\n",
       "      <td id=\"T_b91a3_row1_col2\" class=\"data row1 col2\" >145264.000</td>\n",
       "      <td id=\"T_b91a3_row1_col3\" class=\"data row1 col3\" >0.001</td>\n",
       "      <td id=\"T_b91a3_row1_col4\" class=\"data row1 col4\" >0.325</td>\n",
       "      <td id=\"T_b91a3_row1_col5\" class=\"data row1 col5\" >0.120</td>\n",
       "    </tr>\n",
       "  </tbody>\n",
       "</table>\n"
      ],
      "text/plain": [
       "<pandas.io.formats.style.Styler at 0x20da60364a0>"
      ]
     },
     "execution_count": 14,
     "metadata": {},
     "output_type": "execute_result"
    }
   ],
   "source": [
    "# EDA Summary Stats\n",
    "suma = AB.groupby('landing_page')['converted'].agg({'mean','std','max','min','count','sem'})\n",
    "suma.columns = ['Conversion_Rate', 'Standard_Deviation','Max_CR','Min_CR','Count','Std_Error']\n",
    "suma.style.format('{:.3f}')"
   ]
  },
  {
   "cell_type": "markdown",
   "metadata": {},
   "source": [
    "As a result, we can assume that there might not be a significant difference between the two groups."
   ]
  },
  {
   "cell_type": "markdown",
   "metadata": {},
   "source": [
    "# 3 Internal Validity  "
   ]
  },
  {
   "cell_type": "code",
   "execution_count": 15,
   "metadata": {},
   "outputs": [
    {
     "name": "stdout",
     "output_type": "stream",
     "text": [
      "Control unique users: 145264\n",
      "Control unique users: 145320\n",
      "Percentage of users in the Control group: 49.99 %\n",
      "Percentage of users in the Exposed group: 50.01 %\n",
      "Power_divergenceResult(statistic=0.010792060127192138, pvalue=0.9172607373796061)\n",
      "SRM likely not present\n"
     ]
    }
   ],
   "source": [
    "# Sample Ratio Mismatch (SRM) - Chi Square  \n",
    "# Assign the unqiue counts to each variant\n",
    "control_users = AB[AB['landing_page'] == 'old_page']['user_id'].nunique()\n",
    "treatment_users = AB[AB['landing_page'] == 'new_page']['user_id'].nunique()\n",
    "total_users = control_users + treatment_users\n",
    "print(\"Control unique users:\",control_users)\n",
    "print(\"Control unique users:\",treatment_users)\n",
    "\n",
    "# Calculate the percentages and create two lists\n",
    "control_perc = control_users / total_users\n",
    "treatment_perc = treatment_users / total_users\n",
    "print(\"Percentage of users in the Control group:\",100*round(control_perc,5),\"%\")\n",
    "print(\"Percentage of users in the Exposed group:\",100*round(treatment_perc,5),\"%\")\n",
    "\n",
    "observed = [ control_users, treatment_users ]\n",
    "expected = [ total_users/2, total_users/2 ]\n",
    "\n",
    "# Run chisquare test on observed and expected lists and print the results\n",
    "from scipy.stats import chisquare\n",
    "chi = chisquare(observed, f_exp=expected)\n",
    "\n",
    "print(chi)\n",
    "if chi[1] < 0.01:\n",
    "    print(\"SRM may be present\")\n",
    "else:\n",
    "    print(\"SRM likely not present\")"
   ]
  },
  {
   "cell_type": "markdown",
   "metadata": {},
   "source": [
    "# 4 Analyzing differences in proportion A/B Testing  "
   ]
  },
  {
   "cell_type": "code",
   "execution_count": 16,
   "metadata": {},
   "outputs": [
    {
     "name": "stdout",
     "output_type": "stream",
     "text": [
      "Group Old users: 145264\n",
      "Group New users: 145320\n",
      "Test Stat: 1.3705\n",
      "p-value: 0.1705\n",
      "Group Old 95% CI : [0.1187, 0.1221]\n",
      "Group New 95% CI : [0.1171, 0.1204]\n"
     ]
    }
   ],
   "source": [
    "# Sample Proportion Z-Test \n",
    "from statsmodels.stats.proportion import proportions_ztest, proportion_confint\n",
    "import statsmodels.stats.api as sms\n",
    "\n",
    "# Calculate the number of users in groups C and D\n",
    "n_Old = AB[AB['landing_page'] == 'old_page']['user_id'].nunique()\n",
    "n_New = AB[AB['landing_page'] == 'new_page']['user_id'].nunique()\n",
    "print('Group Old users:',n_Old)\n",
    "print('Group New users:',n_New)\n",
    "\n",
    "# Compute unique signups in each group and assign to lists\n",
    "CR_Old = AB[AB['landing_page'] == 'old_page'].groupby('user_id')['converted'].max().sum()\n",
    "CR_New = AB[AB['landing_page'] == 'new_page'].groupby('user_id')['converted'].max().sum()\n",
    "\n",
    "cr_abtest = [CR_Old, CR_New]\n",
    "n_cdtest = [n_Old, n_New]\n",
    "\n",
    "# Calculate the z_stat, p-value, and 95% confidence intervals\n",
    "z_stat, pvalue = proportions_ztest(cr_abtest, nobs=n_cdtest)\n",
    "(old_lo95, new_lo95), (old_up95, new_up95) = proportion_confint(cr_abtest, nobs=n_cdtest, alpha=0.05)\n",
    "\n",
    "print(f'Test Stat: {z_stat:.4f}')\n",
    "print(f'p-value: {pvalue:.4f}')\n",
    "print(f'Group Old 95% CI : [{old_lo95:.4f}, {old_up95:.4f}]')\n",
    "print(f'Group New 95% CI : [{new_lo95:.4f}, {new_up95:.4f}]')"
   ]
  },
  {
   "cell_type": "markdown",
   "metadata": {},
   "source": [
    "# Analyzing differences in means A/B Testing  "
   ]
  },
  {
   "cell_type": "code",
   "execution_count": 17,
   "metadata": {},
   "outputs": [
    {
     "data": {
      "image/png": "[encoded data removed]",
      "text/plain": [
       "<Figure size 640x480 with 1 Axes>"
      ]
     },
     "metadata": {},
     "output_type": "display_data"
    }
   ],
   "source": [
    "# Bootstrap Analysis\n",
    "AB_CR_mean = round(AB.groupby('landing_page')['converted'].mean()*100,2)\n",
    "\n",
    "# Creating an list with bootstrapped means for each AB-group\n",
    "boot_1d = []\n",
    "for i in range(1000):\n",
    "    boot_mean = AB.sample(frac=1,replace=True).groupby('landing_page')['converted'].mean()\n",
    "    boot_1d.append(boot_mean)\n",
    "    \n",
    "# Transforming the list to a DataFrame\n",
    "boot_1d = pd.DataFrame(boot_1d)\n",
    "boot_1d\n",
    "# A Kernel Density Estimate plot of the bootstrap distributions\n",
    "ax = boot_1d.plot(kind='hist')"
   ]
  },
  {
   "cell_type": "code",
   "execution_count": 18,
   "metadata": {},
   "outputs": [
    {
     "data": {
      "image/png": "[encoded data removed]",
      "text/plain": [
       "<Figure size 640x480 with 1 Axes>"
      ]
     },
     "metadata": {},
     "output_type": "display_data"
    }
   ],
   "source": [
    "# Adding a column with the % difference between the two AB-groups\n",
    "boot_1d['diff'] = (boot_1d['old_page'] - boot_1d['new_page'])/boot_1d['new_page']*100\n",
    "\n",
    "# Ploting the bootstrap % difference\n",
    "ax = boot_1d['diff'].plot(kind='hist')"
   ]
  },
  {
   "cell_type": "code",
   "execution_count": 19,
   "metadata": {},
   "outputs": [
    {
     "name": "stdout",
     "output_type": "stream",
     "text": [
      "0.897\n"
     ]
    }
   ],
   "source": [
    "# Calculating the probability that old_page is greater than new_page (mean)\n",
    "prob = (boot_1d['diff']>0).mean()\n",
    "print(round(prob,3))"
   ]
  },
  {
   "cell_type": "markdown",
   "metadata": {},
   "source": [
    "# SUMMARY"
   ]
  },
  {
   "cell_type": "markdown",
   "metadata": {},
   "source": [
    "The calculated p-value from the hypothesis test is 0.1705, which is greater than the significance level (0.05). As a result, we were unable to reject the null hypothesis. The statistical test yielded insufficient evidence to conclude that there is a significant difference in conversion rates between the two landing page designs. In other words, the observed difference in conversion rates could be due to random variation rather than a genuine effect of the design change."
   ]
  },
  {
   "cell_type": "markdown",
   "metadata": {},
   "source": [
    "While the A/B test results showed no statistically significant difference in conversion rates, the small difference suggests that both landing page designs convert users similarly. Because the new landing page design does not significantly improve conversion rates, it is recommended that you keep the current landing page design or consider iterating and testing new designs to achieve a meaningful improvement in conversion rates."
   ]
  }
 ],
 "metadata": {
  "kernelspec": {
   "display_name": "Python 3",
   "language": "python",
   "name": "python3"
  },
  "language_info": {
   "codemirror_mode": {
    "name": "ipython",
    "version": 3
   },
   "file_extension": ".py",
   "mimetype": "text/x-python",
   "name": "python",
   "nbconvert_exporter": "python",
   "pygments_lexer": "ipython3",
   "version": "3.10.11"
  }
 },
 "nbformat": 4,
 "nbformat_minor": 2
}
